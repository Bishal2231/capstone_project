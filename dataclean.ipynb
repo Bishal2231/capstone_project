{
 "cells": [
  {
   "cell_type": "code",
   "execution_count": 1,
   "id": "6255fff6",
   "metadata": {},
   "outputs": [],
   "source": [
    "import pandas as pd\n",
    "import numpy as np"
   ]
  },
  {
   "cell_type": "markdown",
   "id": "3f6a732d",
   "metadata": {},
   "source": [
    "## Loading the Dataset"
   ]
  },
  {
   "cell_type": "code",
   "execution_count": 10,
   "id": "60125f54",
   "metadata": {},
   "outputs": [
    {
     "data": {
      "text/html": [
       "<div>\n",
       "<style scoped>\n",
       "    .dataframe tbody tr th:only-of-type {\n",
       "        vertical-align: middle;\n",
       "    }\n",
       "\n",
       "    .dataframe tbody tr th {\n",
       "        vertical-align: top;\n",
       "    }\n",
       "\n",
       "    .dataframe thead th {\n",
       "        text-align: right;\n",
       "    }\n",
       "</style>\n",
       "<table border=\"1\" class=\"dataframe\">\n",
       "  <thead>\n",
       "    <tr style=\"text-align: right;\">\n",
       "      <th></th>\n",
       "      <th>Emp_ID</th>\n",
       "      <th>Name</th>\n",
       "      <th>Age</th>\n",
       "      <th>Salary(INR)</th>\n",
       "      <th>Experience(Years)</th>\n",
       "      <th>City</th>\n",
       "      <th>Department</th>\n",
       "      <th>Performance Rating</th>\n",
       "    </tr>\n",
       "  </thead>\n",
       "  <tbody>\n",
       "    <tr>\n",
       "      <th>0</th>\n",
       "      <td>101</td>\n",
       "      <td>Hari</td>\n",
       "      <td>34</td>\n",
       "      <td>170000</td>\n",
       "      <td>0</td>\n",
       "      <td>Bangalore\\n</td>\n",
       "      <td>Male</td>\n",
       "      <td>4.5</td>\n",
       "    </tr>\n",
       "    <tr>\n",
       "      <th>1</th>\n",
       "      <td>102</td>\n",
       "      <td>NaN</td>\n",
       "      <td>28</td>\n",
       "      <td>140000</td>\n",
       "      <td>3</td>\n",
       "      <td>Pune</td>\n",
       "      <td>Female</td>\n",
       "      <td>3.8</td>\n",
       "    </tr>\n",
       "    <tr>\n",
       "      <th>2</th>\n",
       "      <td>103</td>\n",
       "      <td>]sjayam</td>\n",
       "      <td>38</td>\n",
       "      <td>190000</td>\n",
       "      <td>2</td>\n",
       "      <td>New Delhi</td>\n",
       "      <td>Female</td>\n",
       "      <td>4.9</td>\n",
       "    </tr>\n",
       "    <tr>\n",
       "      <th>3</th>\n",
       "      <td>104</td>\n",
       "      <td>hero</td>\n",
       "      <td>27</td>\n",
       "      <td>135000</td>\n",
       "      <td>5</td>\n",
       "      <td>New Delhi</td>\n",
       "      <td>Male</td>\n",
       "      <td>NaN</td>\n",
       "    </tr>\n",
       "    <tr>\n",
       "      <th>4</th>\n",
       "      <td>105</td>\n",
       "      <td>bishu</td>\n",
       "      <td>24</td>\n",
       "      <td>120000</td>\n",
       "      <td>2</td>\n",
       "      <td>NaN</td>\n",
       "      <td>Male</td>\n",
       "      <td>5.0</td>\n",
       "    </tr>\n",
       "  </tbody>\n",
       "</table>\n",
       "</div>"
      ],
      "text/plain": [
       "   Emp_ID     Name  Age  Salary(INR)  Experience(Years)         City  \\\n",
       "0     101    Hari    34       170000                  0  Bangalore\\n   \n",
       "1     102      NaN   28       140000                  3         Pune   \n",
       "2     103  ]sjayam   38       190000                  2    New Delhi   \n",
       "3     104     hero   27       135000                  5    New Delhi   \n",
       "4     105    bishu   24       120000                  2          NaN   \n",
       "\n",
       "  Department  Performance Rating  \n",
       "0       Male                 4.5  \n",
       "1     Female                 3.8  \n",
       "2     Female                 4.9  \n",
       "3       Male                 NaN  \n",
       "4       Male                 5.0  "
      ]
     },
     "execution_count": 10,
     "metadata": {},
     "output_type": "execute_result"
    }
   ],
   "source": [
    "df=pd.read_csv(\"Employee.csv\")\n",
    "df.head()"
   ]
  },
  {
   "cell_type": "code",
   "execution_count": 9,
   "id": "9957a99f",
   "metadata": {},
   "outputs": [
    {
     "data": {
      "text/html": [
       "<div>\n",
       "<style scoped>\n",
       "    .dataframe tbody tr th:only-of-type {\n",
       "        vertical-align: middle;\n",
       "    }\n",
       "\n",
       "    .dataframe tbody tr th {\n",
       "        vertical-align: top;\n",
       "    }\n",
       "\n",
       "    .dataframe thead th {\n",
       "        text-align: right;\n",
       "    }\n",
       "</style>\n",
       "<table border=\"1\" class=\"dataframe\">\n",
       "  <thead>\n",
       "    <tr style=\"text-align: right;\">\n",
       "      <th></th>\n",
       "      <th>Emp_ID</th>\n",
       "      <th>Name</th>\n",
       "      <th>Age</th>\n",
       "      <th>Salary(INR)</th>\n",
       "      <th>Experience(Years)</th>\n",
       "      <th>City</th>\n",
       "      <th>Department</th>\n",
       "      <th>Performance Rating</th>\n",
       "    </tr>\n",
       "  </thead>\n",
       "  <tbody>\n",
       "    <tr>\n",
       "      <th>0</th>\n",
       "      <td>101</td>\n",
       "      <td>Hari</td>\n",
       "      <td>34</td>\n",
       "      <td>170000</td>\n",
       "      <td>0</td>\n",
       "      <td>Bangalore\\n</td>\n",
       "      <td>Male</td>\n",
       "      <td>4.5</td>\n",
       "    </tr>\n",
       "    <tr>\n",
       "      <th>1</th>\n",
       "      <td>102</td>\n",
       "      <td>NaN</td>\n",
       "      <td>28</td>\n",
       "      <td>140000</td>\n",
       "      <td>3</td>\n",
       "      <td>Pune</td>\n",
       "      <td>Female</td>\n",
       "      <td>3.8</td>\n",
       "    </tr>\n",
       "    <tr>\n",
       "      <th>2</th>\n",
       "      <td>103</td>\n",
       "      <td>]sjayam</td>\n",
       "      <td>38</td>\n",
       "      <td>190000</td>\n",
       "      <td>2</td>\n",
       "      <td>New Delhi</td>\n",
       "      <td>Female</td>\n",
       "      <td>4.9</td>\n",
       "    </tr>\n",
       "    <tr>\n",
       "      <th>3</th>\n",
       "      <td>104</td>\n",
       "      <td>hero</td>\n",
       "      <td>27</td>\n",
       "      <td>135000</td>\n",
       "      <td>5</td>\n",
       "      <td>New Delhi</td>\n",
       "      <td>Male</td>\n",
       "      <td>NaN</td>\n",
       "    </tr>\n",
       "    <tr>\n",
       "      <th>4</th>\n",
       "      <td>105</td>\n",
       "      <td>bishu</td>\n",
       "      <td>24</td>\n",
       "      <td>120000</td>\n",
       "      <td>2</td>\n",
       "      <td>NaN</td>\n",
       "      <td>Male</td>\n",
       "      <td>5.0</td>\n",
       "    </tr>\n",
       "  </tbody>\n",
       "</table>\n",
       "</div>"
      ],
      "text/plain": [
       "   Emp_ID     Name  Age  Salary(INR)  Experience(Years)         City  \\\n",
       "0     101    Hari    34       170000                  0  Bangalore\\n   \n",
       "1     102      NaN   28       140000                  3         Pune   \n",
       "2     103  ]sjayam   38       190000                  2    New Delhi   \n",
       "3     104     hero   27       135000                  5    New Delhi   \n",
       "4     105    bishu   24       120000                  2          NaN   \n",
       "\n",
       "  Department  Performance Rating  \n",
       "0       Male                 4.5  \n",
       "1     Female                 3.8  \n",
       "2     Female                 4.9  \n",
       "3       Male                 NaN  \n",
       "4       Male                 5.0  "
      ]
     },
     "execution_count": 9,
     "metadata": {},
     "output_type": "execute_result"
    }
   ],
   "source": [
    "df.head()"
   ]
  },
  {
   "cell_type": "markdown",
   "id": "bd90e306",
   "metadata": {},
   "source": [
    "## Checking the missing Value"
   ]
  },
  {
   "cell_type": "code",
   "execution_count": 13,
   "id": "e25a3674",
   "metadata": {},
   "outputs": [
    {
     "name": "stdout",
     "output_type": "stream",
     "text": [
      "missing value in each column\n",
      "Emp_ID                0\n",
      "Name                  2\n",
      "Age                   0\n",
      "Salary(INR)           0\n",
      "Experience(Years)     0\n",
      "City                  3\n",
      "Department            0\n",
      "Performance Rating    5\n",
      "dtype: int64\n"
     ]
    }
   ],
   "source": [
    "print('missing value in each column')\n",
    "print(df.isnull().sum())"
   ]
  },
  {
   "cell_type": "markdown",
   "id": "7ec08376",
   "metadata": {},
   "source": [
    "## "
   ]
  },
  {
   "cell_type": "code",
   "execution_count": null,
   "id": "765f08c2",
   "metadata": {},
   "outputs": [],
   "source": [
    "# df['Salary(INR)'].fillna(df['Salary(INR)'].mean(),inplace=True)\n",
    "\n",
    "# df['Performance Rating'].fillna(df['Performance Rating'].median(),inplace=True)\n",
    "# df.replace([np.inf,-np.inf],np.nan,inplace=True)\n",
    "# df.fillna(df.mean(),inplace=True)\n",
    "\n",
    "# #remove duplicate records\n",
    "\n",
    "# df.drop_duplicates(inplace=True)\n",
    "\n",
    "\n",
    "# # replace negative salaries\n",
    "# df['Salary(INR)']=np.where(df['Salary(INR)']<0,df['Salary(INR)'].mean(),df['Salary(INR)'])\n",
    "# salary_mean=df['Salary(INR)'].mean()\n",
    "# salary_std=df['Salary(INR)'].std()\n",
    "# lower_bound=salary_mean-(3*salary_std)\n",
    "# upper_bound=salary_mean+(3*salary_std)\n",
    "\n",
    "# df=df[(df['Salary(INR)']>=lower_bound)&(df['Salary(INR)']<=upper_bound)]\n",
    "# df.to_csv('cleaned_indian_employee.csv',index=False)\n",
    "# print('data cleaning completed! saved as cleaned_indian_employee.csv')"
   ]
  },
  {
   "cell_type": "code",
   "execution_count": 26,
   "id": "8da1ae02",
   "metadata": {},
   "outputs": [
    {
     "name": "stdout",
     "output_type": "stream",
     "text": [
      "✅ Data cleaning completed! Saved as cleaned_indian_employee.csv\n"
     ]
    },
    {
     "name": "stderr",
     "output_type": "stream",
     "text": [
      "C:\\Users\\LOQ\\AppData\\Local\\Temp\\ipykernel_9308\\1641070699.py:6: FutureWarning: A value is trying to be set on a copy of a DataFrame or Series through chained assignment using an inplace method.\n",
      "The behavior will change in pandas 3.0. This inplace method will never work because the intermediate object on which we are setting values always behaves as a copy.\n",
      "\n",
      "For example, when doing 'df[col].method(value, inplace=True)', try using 'df.method({col: value}, inplace=True)' or df[col] = df[col].method(value) instead, to perform the operation inplace on the original object.\n",
      "\n",
      "\n",
      "  df['Salary(INR)'].fillna(df['Salary(INR)'].mean(), inplace=True)\n",
      "C:\\Users\\LOQ\\AppData\\Local\\Temp\\ipykernel_9308\\1641070699.py:7: FutureWarning: A value is trying to be set on a copy of a DataFrame or Series through chained assignment using an inplace method.\n",
      "The behavior will change in pandas 3.0. This inplace method will never work because the intermediate object on which we are setting values always behaves as a copy.\n",
      "\n",
      "For example, when doing 'df[col].method(value, inplace=True)', try using 'df.method({col: value}, inplace=True)' or df[col] = df[col].method(value) instead, to perform the operation inplace on the original object.\n",
      "\n",
      "\n",
      "  df['Performance Rating'].fillna(df['Performance Rating'].median(), inplace=True)\n",
      "C:\\Users\\LOQ\\AppData\\Local\\Temp\\ipykernel_9308\\1641070699.py:9: FutureWarning: A value is trying to be set on a copy of a DataFrame or Series through chained assignment using an inplace method.\n",
      "The behavior will change in pandas 3.0. This inplace method will never work because the intermediate object on which we are setting values always behaves as a copy.\n",
      "\n",
      "For example, when doing 'df[col].method(value, inplace=True)', try using 'df.method({col: value}, inplace=True)' or df[col] = df[col].method(value) instead, to perform the operation inplace on the original object.\n",
      "\n",
      "\n",
      "  df['Name'].fillna('Unknown', inplace=True)\n",
      "C:\\Users\\LOQ\\AppData\\Local\\Temp\\ipykernel_9308\\1641070699.py:10: FutureWarning: A value is trying to be set on a copy of a DataFrame or Series through chained assignment using an inplace method.\n",
      "The behavior will change in pandas 3.0. This inplace method will never work because the intermediate object on which we are setting values always behaves as a copy.\n",
      "\n",
      "For example, when doing 'df[col].method(value, inplace=True)', try using 'df.method({col: value}, inplace=True)' or df[col] = df[col].method(value) instead, to perform the operation inplace on the original object.\n",
      "\n",
      "\n",
      "  df['City'].fillna('Unknown', inplace=True)\n"
     ]
    }
   ],
   "source": [
    "# 1. HANDLE NaNs & ±∞ ----------------------------------------------------------\n",
    "# Replace explicit infinities (none in this sample, but good habit)\n",
    "df.replace([np.inf, -np.inf], np.nan, inplace=True)\n",
    "\n",
    "# a) Column-specific fills\n",
    "df['Salary(INR)'].fillna(df['Salary(INR)'].mean(), inplace=True)\n",
    "df['Performance Rating'].fillna(df['Performance Rating'].median(), inplace=True)\n",
    "# choose: drop or fill – here we'll fill with placeholders\n",
    "df['Name'].fillna('Unknown', inplace=True)\n",
    "df['City'].fillna('Unknown', inplace=True)\n",
    "# b) Global numeric fill\n",
    "num_cols = df.select_dtypes(include='number').columns\n",
    "df[num_cols] = df[num_cols].fillna(df[num_cols].mean())\n",
    "\n",
    "# 2. REMOVE DUPLICATES ---------------------------------------------------------\n",
    "df.drop_duplicates(subset='Emp_ID', inplace=True)   # safer to use ID\n",
    "\n",
    "# 3. FIX NEGATIVE SALARIES -----------------------------------------------------\n",
    "mean_salary = df['Salary(INR)'].mean()\n",
    "df.loc[df['Salary(INR)'] < 0, 'Salary(INR)'] = mean_salary\n",
    "\n",
    "# 4. CLIP 3-SIGMA OUTLIERS -----------------------------------------------------\n",
    "sal_mean = df['Salary(INR)'].mean()\n",
    "sal_std  = df['Salary(INR)'].std()\n",
    "low, high = sal_mean - 3*sal_std, sal_mean + 3*sal_std\n",
    "df = df[df['Salary(INR)'].between(low, high)]\n",
    "\n",
    "# 5. TRIM WHITESPACE, FIX NEWLINES IN TEXT -------------------------------------\n",
    "# Strip spaces/newlines in string columns\n",
    "str_cols = df.select_dtypes(include='object').columns\n",
    "df[str_cols] = df[str_cols].apply(lambda col: col.str.strip())\n",
    "\n",
    "# 6. STANDARDISE CATEGORICALS (optional) --------------------------------------\n",
    "df['City'] = (df['City']\n",
    "              .str.replace(r'\\s+', ' ', regex=True)   # collapse double spaces\n",
    "              .str.title())                           # Bangalore, Pune, etc.\n",
    "\n",
    "# 7. SAVE ----------------------------------------------------------------------\n",
    "df.to_csv('cleaned_indian_employee.csv', index=False)\n",
    "print(\"✅ Data cleaning completed! Saved as cleaned_indian_employee.csv\")"
   ]
  },
  {
   "cell_type": "code",
   "execution_count": 27,
   "id": "e64c4402",
   "metadata": {},
   "outputs": [
    {
     "data": {
      "text/plain": [
       "Emp_ID                0\n",
       "Name                  0\n",
       "Age                   0\n",
       "Salary(INR)           0\n",
       "Experience(Years)     0\n",
       "City                  0\n",
       "Department            0\n",
       "Performance Rating    0\n",
       "dtype: int64"
      ]
     },
     "execution_count": 27,
     "metadata": {},
     "output_type": "execute_result"
    }
   ],
   "source": [
    "df.isnull().sum()"
   ]
  },
  {
   "cell_type": "code",
   "execution_count": null,
   "id": "313ad3ed",
   "metadata": {},
   "outputs": [],
   "source": []
  },
  {
   "cell_type": "code",
   "execution_count": null,
   "id": "6eaefd94",
   "metadata": {},
   "outputs": [],
   "source": []
  },
  {
   "cell_type": "code",
   "execution_count": null,
   "id": "900a2741",
   "metadata": {},
   "outputs": [],
   "source": []
  }
 ],
 "metadata": {
  "kernelspec": {
   "display_name": "myenv",
   "language": "python",
   "name": "python3"
  },
  "language_info": {
   "codemirror_mode": {
    "name": "ipython",
    "version": 3
   },
   "file_extension": ".py",
   "mimetype": "text/x-python",
   "name": "python",
   "nbconvert_exporter": "python",
   "pygments_lexer": "ipython3",
   "version": "3.9.13"
  }
 },
 "nbformat": 4,
 "nbformat_minor": 5
}
